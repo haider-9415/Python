{
 "cells": [
  {
   "cell_type": "code",
   "execution_count": 1,
   "id": "49ab1be6",
   "metadata": {},
   "outputs": [],
   "source": [
    "import pandas as pd"
   ]
  },
  {
   "cell_type": "code",
   "execution_count": 2,
   "id": "6409cf77",
   "metadata": {},
   "outputs": [
    {
     "data": {
      "text/plain": [
       "2020 sales    100k\n",
       "2021 sales     90k\n",
       "2022 sales    110k\n",
       "dtype: object"
      ]
     },
     "execution_count": 2,
     "metadata": {},
     "output_type": "execute_result"
    }
   ],
   "source": [
    "pd.Series(['100k','90k','110k'],index=['2020 sales','2021 sales','2022 sales'])"
   ]
  },
  {
   "cell_type": "code",
   "execution_count": 3,
   "id": "69e1a532",
   "metadata": {},
   "outputs": [],
   "source": [
    "a=pd.Series(['100k','90k','110k'],index=['2020 sales','2021 sales','2022 sales'])"
   ]
  },
  {
   "cell_type": "code",
   "execution_count": 4,
   "id": "ee459e00",
   "metadata": {},
   "outputs": [
    {
     "data": {
      "text/plain": [
       "2020 sales    100k\n",
       "2021 sales     90k\n",
       "2022 sales    110k\n",
       "dtype: object"
      ]
     },
     "execution_count": 4,
     "metadata": {},
     "output_type": "execute_result"
    }
   ],
   "source": [
    "a"
   ]
  },
  {
   "cell_type": "code",
   "execution_count": null,
   "id": "cb45c11f",
   "metadata": {},
   "outputs": [],
   "source": []
  }
 ],
 "metadata": {
  "kernelspec": {
   "display_name": "Python 3.10.4 64-bit",
   "language": "python",
   "name": "python3"
  },
  "language_info": {
   "codemirror_mode": {
    "name": "ipython",
    "version": 3
   },
   "file_extension": ".py",
   "mimetype": "text/x-python",
   "name": "python",
   "nbconvert_exporter": "python",
   "pygments_lexer": "ipython3",
   "version": "3.10.4"
  },
  "vscode": {
   "interpreter": {
    "hash": "26de051ba29f2982a8de78e945f0abaf191376122a1563185a90213a26c5da77"
   }
  }
 },
 "nbformat": 4,
 "nbformat_minor": 5
}
