{
 "cells": [
  {
   "cell_type": "code",
   "execution_count": null,
   "id": "05801edb",
   "metadata": {},
   "outputs": [],
   "source": [
    "import numpy as np"
   ]
  },
  {
   "cell_type": "code",
   "execution_count": 21,
   "id": "9f904974",
   "metadata": {},
   "outputs": [],
   "source": [
    "arr=np.array(100)"
   ]
  },
  {
   "cell_type": "code",
   "execution_count": 22,
   "id": "8bcfa4a3",
   "metadata": {},
   "outputs": [],
   "source": [
    "arr=np.array([12,34,56])"
   ]
  },
  {
   "cell_type": "code",
   "execution_count": 23,
   "id": "54a068bd",
   "metadata": {},
   "outputs": [
    {
     "data": {
      "text/plain": [
       "array([12, 34, 56])"
      ]
     },
     "execution_count": 23,
     "metadata": {},
     "output_type": "execute_result"
    }
   ],
   "source": [
    "arr"
   ]
  },
  {
   "cell_type": "code",
   "execution_count": 29,
   "id": "e85e80b1",
   "metadata": {},
   "outputs": [],
   "source": [
    "arr=np.array((1,2,56,78,0))"
   ]
  },
  {
   "cell_type": "code",
   "execution_count": 36,
   "id": "84d5904f",
   "metadata": {},
   "outputs": [],
   "source": [
    "arr=np.array([[12,7],[9,8]])"
   ]
  },
  {
   "cell_type": "code",
   "execution_count": 37,
   "id": "62a01948",
   "metadata": {},
   "outputs": [
    {
     "data": {
      "text/plain": [
       "array([[12,  7],\n",
       "       [ 9,  8]])"
      ]
     },
     "execution_count": 37,
     "metadata": {},
     "output_type": "execute_result"
    }
   ],
   "source": [
    "arr"
   ]
  },
  {
   "cell_type": "code",
   "execution_count": 38,
   "id": "e13e8073",
   "metadata": {},
   "outputs": [],
   "source": [
    "arr=np.array(((12,45,67),(23,12,45)))"
   ]
  },
  {
   "cell_type": "code",
   "execution_count": 40,
   "id": "ee14ed11",
   "metadata": {},
   "outputs": [
    {
     "data": {
      "text/plain": [
       "((12, 45, 67), (23, 12, 45))"
      ]
     },
     "execution_count": 40,
     "metadata": {},
     "output_type": "execute_result"
    }
   ],
   "source": [
    "arr"
   ]
  },
  {
   "cell_type": "code",
   "execution_count": 42,
   "id": "32a10c9a",
   "metadata": {},
   "outputs": [
    {
     "data": {
      "text/plain": [
       "array([[2, 2, 2, 2, 2, 2],\n",
       "       [2, 2, 2, 2, 2, 2],\n",
       "       [2, 2, 2, 2, 2, 2],\n",
       "       [2, 2, 2, 2, 2, 2]])"
      ]
     },
     "execution_count": 42,
     "metadata": {},
     "output_type": "execute_result"
    }
   ],
   "source": [
    "np.full((4,6),2)"
   ]
  },
  {
   "cell_type": "code",
   "execution_count": 45,
   "id": "7b54c4c1",
   "metadata": {},
   "outputs": [
    {
     "data": {
      "text/plain": [
       "array([[0., 0.],\n",
       "       [0., 0.],\n",
       "       [0., 0.]])"
      ]
     },
     "execution_count": 45,
     "metadata": {},
     "output_type": "execute_result"
    }
   ],
   "source": [
    "np.zeros((3,2))"
   ]
  },
  {
   "cell_type": "code",
   "execution_count": 47,
   "id": "9c995a14",
   "metadata": {},
   "outputs": [
    {
     "data": {
      "text/plain": [
       "array([[1., 1., 1., 1., 1.],\n",
       "       [1., 1., 1., 1., 1.],\n",
       "       [1., 1., 1., 1., 1.],\n",
       "       [1., 1., 1., 1., 1.]])"
      ]
     },
     "execution_count": 47,
     "metadata": {},
     "output_type": "execute_result"
    }
   ],
   "source": [
    "np.ones((4,5))"
   ]
  },
  {
   "cell_type": "code",
   "execution_count": 51,
   "id": "4ad239d5",
   "metadata": {},
   "outputs": [
    {
     "data": {
      "text/plain": [
       "array([-5, -3, -1,  1,  3,  5,  7,  9, 11, 13, 15, 17, 19])"
      ]
     },
     "execution_count": 51,
     "metadata": {},
     "output_type": "execute_result"
    }
   ],
   "source": [
    "np.arange(-5,20,2)"
   ]
  },
  {
   "cell_type": "code",
   "execution_count": 52,
   "id": "34773242",
   "metadata": {},
   "outputs": [
    {
     "data": {
      "text/plain": [
       "array([ 5., 12., 19., 26., 33., 40.])"
      ]
     },
     "execution_count": 52,
     "metadata": {},
     "output_type": "execute_result"
    }
   ],
   "source": [
    "np.linspace(5,40,6)"
   ]
  },
  {
   "cell_type": "code",
   "execution_count": null,
   "id": "d6b7c249",
   "metadata": {},
   "outputs": [],
   "source": []
  }
 ],
 "metadata": {
  "kernelspec": {
   "display_name": "Python 3 (ipykernel)",
   "language": "python",
   "name": "python3"
  },
  "language_info": {
   "codemirror_mode": {
    "name": "ipython",
    "version": 3
   },
   "file_extension": ".py",
   "mimetype": "text/x-python",
   "name": "python",
   "nbconvert_exporter": "python",
   "pygments_lexer": "ipython3",
   "version": "3.10.4"
  }
 },
 "nbformat": 4,
 "nbformat_minor": 5
}
